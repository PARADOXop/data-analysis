{
 "cells": [
  {
   "cell_type": "code",
   "execution_count": null,
   "metadata": {},
   "outputs": [],
   "source": [
    "import pandas as pd\n",
    "import os\n"
   ]
  },
  {
   "cell_type": "markdown",
   "metadata": {},
   "source": [
    "1. read data from the file and handle null values\n",
    "2. rename columns names replace to lowerr_case and replace space with _\n",
    "3. derive new col discount, sales prce and profit\n",
    "4. convert order date from obj to datetime\n",
    "5. drop cost price list and discount percent cols\n",
    "6. laod data into sql server using replace option\n"
   ]
  },
  {
   "cell_type": "code",
   "execution_count": null,
   "metadata": {},
   "outputs": [],
   "source": [
    "df = pd.read_csv('orders.csv', na_values=['Not Available', 'na'])\n",
    "df"
   ]
  },
  {
   "cell_type": "code",
   "execution_count": null,
   "metadata": {},
   "outputs": [],
   "source": []
  },
  {
   "cell_type": "code",
   "execution_count": null,
   "metadata": {},
   "outputs": [],
   "source": [
    "# 2. rename columns names replace to lowerr_case and replace space with _\n",
    "for i in df.columns:\n",
    "    new_column_name = i.lower().replace(' ', '_')\n",
    "    df.rename(columns={i: new_column_name}, inplace=True)\n",
    "print(df.columns)"
   ]
  },
  {
   "cell_type": "code",
   "execution_count": null,
   "metadata": {},
   "outputs": [],
   "source": [
    "#3. derive new col discount, sales price and profit\n",
    "df['discount'] = df['list_price'] * df['discount_percent']* 0.01\n",
    "df['sale_price'] = df['list_price'] - df['discount']\n",
    "df['profit'] = df['sale_price'] - df['cost_price']\n",
    "df"
   ]
  },
  {
   "cell_type": "code",
   "execution_count": null,
   "metadata": {},
   "outputs": [],
   "source": [
    "# 4. convert order date from obj to datetime\n",
    "df['order_date'] = pd.to_datetime(df['order_date'])\n",
    "df"
   ]
  },
  {
   "cell_type": "code",
   "execution_count": null,
   "metadata": {},
   "outputs": [],
   "source": [
    "# 5. drop cost price, list price and discount percent cols\n",
    "df.drop(columns=['cost_price', 'list_price', 'discount_percent'], axis = 0, inplace=True)\n",
    "df"
   ]
  },
  {
   "cell_type": "code",
   "execution_count": null,
   "metadata": {},
   "outputs": [],
   "source": [
    "# 6. load the data into sql server using replace option\n",
    "!pip install SQLAlchemy pyodbc\n",
    "import sqlalchemy as sal\n",
    "engine = sal.create_engine('mssql://PARADOXop\\SQLEXPRESS/master?driver=ODBC+DRIVER+17+FOR+SQL+SERVER')\n",
    "conn=engine.connect()"
   ]
  },
  {
   "cell_type": "code",
   "execution_count": null,
   "metadata": {},
   "outputs": [],
   "source": [
    "# 7. load the data into sql server using append option\n",
    "\n",
    "df.to_sql(name = 'orders', con=conn, index=False, if_exists='append')"
   ]
  },
  {
   "cell_type": "code",
   "execution_count": null,
   "metadata": {},
   "outputs": [],
   "source": []
  }
 ],
 "metadata": {
  "kernelspec": {
   "display_name": "base",
   "language": "python",
   "name": "python3"
  },
  "language_info": {
   "codemirror_mode": {
    "name": "ipython",
    "version": 3
   },
   "file_extension": ".py",
   "mimetype": "text/x-python",
   "name": "python",
   "nbconvert_exporter": "python",
   "pygments_lexer": "ipython3",
   "version": "3.10.9"
  }
 },
 "nbformat": 4,
 "nbformat_minor": 2
}
